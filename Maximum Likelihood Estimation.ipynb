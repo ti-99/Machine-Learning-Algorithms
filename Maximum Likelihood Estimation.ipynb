{
 "cells": [
  {
   "cell_type": "markdown",
   "metadata": {},
   "source": [
    "# Part I: Maximum Likelihood Estimation (MLE)\n",
    "\n",
    "### \n",
    "\n",
    "### Suppose we have coin and want to estimate the probability of heads ($\\theta$) for it. The coin is [``Bernoulli distributed``](https://en.wikipedia.org/wiki/Bernoulli_distribution), i.e.:\n",
    "\n",
    "### $$ p(x|\\theta)=p(X=x|\\theta)= \\theta^x (1-\\theta^x)$$\n",
    "\n",
    "### where $x$ is the outcome when the coin is tossed; **1** for heads and **0** for tails.\n",
    "\n",
    "### As you know from the lecture, given $n$ i.i.d samples $\\mathbb{x}=\\{x_1,x_2,.....x_n\\}$ from a Bernoulli distribution, our goal in MLE is to find a solution to this problem:\n",
    "\n",
    "### $$\\hat{\\theta}_{\\text{MLE}}=argmax_{\\theta} L(\\theta|\\mathbb{x})= argmax_{\\theta} p(\\mathbb{x}|\\theta) =argmax_{\\theta} \\prod_{i=1}^{n} p(x_i|\\theta) $$\n"
   ]
  },
  {
   "cell_type": "code",
   "execution_count": 11,
   "metadata": {},
   "outputs": [],
   "source": [
    "# Your code for mle_bernoulli in this cell\n",
    "import numpy as np\n",
    "\n",
    "def mle_bernoulli(x):\n",
    "    return(np.mean(x))"
   ]
  },
  {
   "cell_type": "markdown",
   "metadata": {},
   "source": [
    "### 2. Using [``scipy.stats.bernoulli``](https://docs.scipy.org/doc/scipy/reference/generated/scipy.stats.bernoulli.html), generate $n=50$  i.i.d data $\\mathbb{x}=\\{x_1,x_2,.....x_50\\}$ from a Bernoulli distribution with $\\theta_{\\text{true}}=0.5$. Then using ``mle_bernoulli`` function to find  $\\hat{\\theta}_{\\text{MLE}}$"
   ]
  },
  {
   "cell_type": "code",
   "execution_count": 17,
   "metadata": {
    "scrolled": true
   },
   "outputs": [
    {
     "name": "stdout",
     "output_type": "stream",
     "text": [
      "[1 1 0 1 1 0 1 1 1 1 0 1 1 0 1 0 0 0 0 0 1 0 0 1 1 0 0 1 1 1 0 0 1 0 1 1 1\n",
      " 1 1 1 0 0 1 0 0 0 1 1 1 0]\n"
     ]
    },
    {
     "data": {
      "text/plain": [
       "0.56"
      ]
     },
     "execution_count": 17,
     "metadata": {},
     "output_type": "execute_result"
    }
   ],
   "source": [
    "# Your code in this cell\n",
    "from scipy.stats import bernoulli\n",
    "x = bernoulli.rvs(0.5, size = 50)\n",
    "print(x)\n",
    "\n",
    "mle_bernoulli(x)"
   ]
  },
  {
   "cell_type": "markdown",
   "metadata": {},
   "source": [
    "# Part II: Maximum A Posteriori Estimation:\n",
    "\n",
    "### As you know from the lecture, in the MAP estimation of the parameters are found by maximizing the a posteriori probability:\n",
    "\n",
    "###  $$\\hat{\\theta}_{\\text{MAP}}=argmax_{\\theta} p(\\theta|\\mathbb{x})= argmax_{\\theta} p(\\mathbb{x}|\\theta) p(\\theta)$$\n",
    "\n",
    "\n",
    "### The advantage is that we can specify our prior knowledge about the true values of the parameters in the form of the prior  $p(\\theta)$  and thus avoid wrong uninformed estimates in case too few samples are available.\n",
    "\n",
    "### It was argued in the lecture that in order to obtain a close-form expression for a posterior probability, we should use a [conjugate prior](https://en.wikipedia.org/wiki/Conjugate_prior).\n",
    "\n",
    "### Use  $\\mathbb{x}$ generated in task # 1 to perform the following tasks:"
   ]
  },
  {
   "cell_type": "markdown",
   "metadata": {},
   "source": [
    "### 3.  Now assume that $\\theta \\sim \\text{Beta}(2,2)$,  determine the distribution of $p(\\theta|\\mathbb{x})$ and its hyperparameters."
   ]
  },
  {
   "cell_type": "code",
   "execution_count": 66,
   "metadata": {},
   "outputs": [],
   "source": [
    "# your code in this cell\n",
    "import scipy.special as sc\n",
    "import numpy as np\n",
    "\n",
    "t = np.linspace(0,1,100)\n",
    "\n",
    "posterior = (1/sc.beta(2,2))*(t**(sum(x)+1))*((1-t)**(len(x)-sum(x)+1))\n",
    "prior = (1/sc.beta(2,2))*t*(1-t)"
   ]
  },
  {
   "cell_type": "markdown",
   "metadata": {},
   "source": [
    "### 4. Plot the distributions $p(\\theta)$ and $p(\\theta|\\mathbb{x})$"
   ]
  },
  {
   "cell_type": "code",
   "execution_count": 71,
   "metadata": {},
   "outputs": [
    {
     "data": {
      "text/plain": [
       "[<matplotlib.lines.Line2D at 0x25ad9ff7d00>]"
      ]
     },
     "execution_count": 71,
     "metadata": {},
     "output_type": "execute_result"
    },
    {
     "data": {
      "image/png": "[encoded data removed]",
      "text/plain": [
       "<Figure size 432x288 with 1 Axes>"
      ]
     },
     "metadata": {
      "needs_background": "light"
     },
     "output_type": "display_data"
    }
   ],
   "source": [
    " # your code in this cell\n",
    "plt.plot(t, prior)\n",
    "plt.plot(t, posterior)"
   ]
  },
  {
   "cell_type": "code",
   "execution_count": 70,
   "metadata": {},
   "outputs": [
    {
     "data": {
      "text/plain": [
       "[<matplotlib.lines.Line2D at 0x25ad9f9c700>]"
      ]
     },
     "execution_count": 70,
     "metadata": {},
     "output_type": "execute_result"
    },
    {
     "data": {
      "image/png": "[encoded data removed]",
      "text/plain": [
       "<Figure size 432x288 with 1 Axes>"
      ]
     },
     "metadata": {
      "needs_background": "light"
     },
     "output_type": "display_data"
    }
   ],
   "source": [
    "plt.plot(t, posterior)"
   ]
  },
  {
   "cell_type": "markdown",
   "metadata": {},
   "source": [
    "### 5. Derive the MAP of $\\theta$ and then use  the formula to define the function ``map_bernoulli``, which computes a MAP of Bernoulli distribution parameter.  "
   ]
  },
  {
   "cell_type": "code",
   "execution_count": 64,
   "metadata": {},
   "outputs": [],
   "source": [
    "# Your code in this cell\n",
    "def map_bernoulli(x):\n",
    "    mapTheta = (sum(x)+1)/(2+len(x))\n",
    "    return(mapTheta)"
   ]
  },
  {
   "cell_type": "markdown",
   "metadata": {},
   "source": [
    "### 6. Find the MAP for $\\theta$ by using  samples $\\mathbb{x}$ "
   ]
  },
  {
   "cell_type": "code",
   "execution_count": 65,
   "metadata": {},
   "outputs": [
    {
     "data": {
      "text/plain": [
       "0.5576923076923077"
      ]
     },
     "execution_count": 65,
     "metadata": {},
     "output_type": "execute_result"
    }
   ],
   "source": [
    "# Your code in this cell\n",
    "map_bernoulli(x)"
   ]
  }
 ],
 "metadata": {
  "kernelspec": {
   "display_name": "Python 3",
   "language": "python",
   "name": "python3"
  },
  "language_info": {
   "codemirror_mode": {
    "name": "ipython",
    "version": 3
   },
   "file_extension": ".py",
   "mimetype": "text/x-python",
   "name": "python",
   "nbconvert_exporter": "python",
   "pygments_lexer": "ipython3",
   "version": "3.8.5"
  }
 },
 "nbformat": 4,
 "nbformat_minor": 5
}
